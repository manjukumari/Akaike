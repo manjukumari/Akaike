{
 "cells": [
  {
   "cell_type": "code",
   "execution_count": null,
   "id": "2ddb1cb6",
   "metadata": {},
   "outputs": [],
   "source": [
    "# Load EDA Pkgs\n",
    "import pandas as pd\n",
    "import numpy as np\n"
   ]
  },
  {
   "cell_type": "code",
   "execution_count": null,
   "id": "61901bff",
   "metadata": {},
   "outputs": [],
   "source": [
    "# Load Data Viz\n",
    "import matplotlib.pyplot as plt\n",
    "import seaborn as sns\n",
    "%matplotlib inline"
   ]
  },
  {
   "cell_type": "code",
   "execution_count": null,
   "id": "ba3786cc",
   "metadata": {},
   "outputs": [],
   "source": [
    "# Load Sentiment Pkgs\n",
    "from textblob import TextBlob\n"
   ]
  },
  {
   "cell_type": "code",
   "execution_count": null,
   "id": "802d2565",
   "metadata": {},
   "outputs": [],
   "source": [
    "# Load Dataset\n",
    "df = pd.read_csv(\"drugsCom_raw/drugsComTrain_raw.tsv\",sep='\\t')"
   ]
  },
  {
   "cell_type": "code",
   "execution_count": null,
   "id": "f4bca21e",
   "metadata": {},
   "outputs": [],
   "source": [
    "# Preview Dataset\n",
    "df.head()"
   ]
  },
  {
   "cell_type": "code",
   "execution_count": null,
   "id": "42f79ec5",
   "metadata": {},
   "outputs": [],
   "source": [
    "# Columns\n",
    "df.columns"
   ]
  },
  {
   "cell_type": "code",
   "execution_count": null,
   "id": "3c541c83",
   "metadata": {},
   "outputs": [],
   "source": [
    "# Missing Values\n",
    "df.isnull().sum()"
   ]
  },
  {
   "cell_type": "code",
   "execution_count": null,
   "id": "048ecce1",
   "metadata": {},
   "outputs": [],
   "source": [
    "# How many drugs do we have?\n",
    "df['drugName'].unique().tolist()"
   ]
  },
  {
   "cell_type": "code",
   "execution_count": null,
   "id": "2a429241",
   "metadata": {},
   "outputs": [],
   "source": [
    "# How many drugs do we have?\n",
    "len(df['drugName'].unique().tolist())"
   ]
  },
  {
   "cell_type": "code",
   "execution_count": null,
   "id": "0e929b8e",
   "metadata": {},
   "outputs": [],
   "source": [
    "# What is the most popular drug?\n",
    "df['drugName'].value_counts()"
   ]
  },
  {
   "cell_type": "code",
   "execution_count": null,
   "id": "452a527a",
   "metadata": {},
   "outputs": [],
   "source": [
    "# What is the most popular drug?\n",
    "# Top 20 Drugs (Most Popular)\n",
    "df['drugName'].value_counts().nlargest(20)"
   ]
  },
  {
   "cell_type": "code",
   "execution_count": null,
   "id": "d2528e30",
   "metadata": {},
   "outputs": [],
   "source": [
    "# Top 20 Drugs (Most Popular)\n",
    "plt.figure(figsize=(20,10))\n",
    "df['drugName'].value_counts().nlargest(20).plot(kind='bar')\n",
    "plt.title(\"Top 20 Most popular drugs based on counts\")\n",
    "plt.show()"
   ]
  },
  {
   "cell_type": "code",
   "execution_count": null,
   "id": "0c0a047c",
   "metadata": {},
   "outputs": [],
   "source": [
    "# Least 20 Drugs (Most Popular)\n",
    "df['drugName'].value_counts().nsmallest(20)"
   ]
  },
  {
   "cell_type": "code",
   "execution_count": null,
   "id": "db1a24dc",
   "metadata": {},
   "outputs": [],
   "source": [
    "df['drugName'].value_counts().nsmallest(20).plot(kind='bar')"
   ]
  },
  {
   "cell_type": "code",
   "execution_count": null,
   "id": "40262658",
   "metadata": {},
   "outputs": [],
   "source": [
    "drug_suffix = {\"azole\":\"antifungal (except metronidazole)\",\n",
    "\"caine\":\"anesthetic\",\n",
    "\"cillin\":\"antibiotic(penicillins)\",\n",
    "\"mycin\":\"antibiotic\",\n",
    "\"micin\":\"antibiotic\",\n",
    "\"cycline\":\"antibiotic\",\n",
    "\"oxacin\":\"antibiotic\",\n",
    "\"ceph\":\"antibiotic(cephalosporins)\",\n",
    "\"cef\":\"antibiotic (cephalosporins)\",\n",
    "\"dine\":\"h2 blockers (anti-ulcers)\",\n",
    "\"done\":\"opiod analgesics\",\n",
    "\"ide\":\"oral hypoglycemics\",\n",
    "\"lam\":\"anti-anxiety\",\n",
    "\"pam\":\"anti-anxiety\",\n",
    "\"mide\":\"diuretics\",\n",
    "\"zide\":\"diuretics\",\n",
    "\"nium\":\"neuromuscular blocking agents\",\n",
    "\"olol\":\"beta blockers\",\n",
    "\"tidine\":\"h2 antagonist\",\n",
    "\"tropin\":\"pituitary hormone\",\n",
    "\"zosin\":\"alpha blocker\",\n",
    "\"ase\":\"thrombolytics\",\n",
    "\"plase\":\"thrombolytics\",\n",
    "\"azepam\":\"anti-anziety(benzodiazepine)\",\n",
    "\"azine\":\"antipyschotics (phenothiazine)\",\n",
    "\"barbital\":\"barbiturate\",\n",
    "\"dipine\":\"calcium channel blocker\",\n",
    "\"lol\":\"beta blocker\",\n",
    "\"zolam\":\"cns depressants\",\n",
    "\"pril\":\"ace inhibitor\",\n",
    "\"artan\":\"arb blocker\",\n",
    "\"statins\":\"lipid-lowering drugs\",\n",
    "\"parin\":\"anticoagulants\",\n",
    "\"sone\":\"corticosteroid (prednisone)\"}\n"
   ]
  },
  {
   "cell_type": "code",
   "execution_count": null,
   "id": "a95d62d1",
   "metadata": {},
   "outputs": [],
   "source": [
    "def classify_drug(drugname):\n",
    "    for i in drug_suffix.keys():\n",
    "        if drugname.endswith(i):\n",
    "            print(True)\n",
    "            print(drug_suffix[i])"
   ]
  },
  {
   "cell_type": "code",
   "execution_count": null,
   "id": "a68666e0",
   "metadata": {},
   "outputs": [],
   "source": [
    "classify_drug('Valsartan')"
   ]
  },
  {
   "cell_type": "code",
   "execution_count": null,
   "id": "50ca7ae0",
   "metadata": {},
   "outputs": [],
   "source": [
    "classify_drug('losartan')"
   ]
  },
  {
   "cell_type": "code",
   "execution_count": null,
   "id": "8543bc40",
   "metadata": {},
   "outputs": [],
   "source": [
    "def classify_drug(drugname):\n",
    "    for i in drug_suffix.keys():\n",
    "        if drugname.endswith(i):\n",
    "            return drug_suffix[i]"
   ]
  },
  {
   "cell_type": "code",
   "execution_count": null,
   "id": "f8617eb5",
   "metadata": {},
   "outputs": [],
   "source": [
    "classify_drug('valsartan')"
   ]
  },
  {
   "cell_type": "code",
   "execution_count": null,
   "id": "1fde89a2",
   "metadata": {},
   "outputs": [],
   "source": [
    "df['drug_class'] = df['drugName'].apply(classify_drug)"
   ]
  },
  {
   "cell_type": "code",
   "execution_count": null,
   "id": "5aa83cea",
   "metadata": {},
   "outputs": [],
   "source": [
    "df[['drugName','drug_class']]"
   ]
  },
  {
   "cell_type": "code",
   "execution_count": null,
   "id": "777b8ee2",
   "metadata": {},
   "outputs": [],
   "source": [
    "# How many Groups of Drugs By Class\n",
    "df['drug_class'].unique().tolist()"
   ]
  },
  {
   "cell_type": "code",
   "execution_count": null,
   "id": "8e829a70",
   "metadata": {},
   "outputs": [],
   "source": [
    "# How many Groups of Drugs By Class\n",
    "len(df['drug_class'].unique().tolist())"
   ]
  },
  {
   "cell_type": "code",
   "execution_count": null,
   "id": "b1ff37f5",
   "metadata": {},
   "outputs": [],
   "source": [
    "# Which of class of drug  is the most commonest\n",
    "df['drug_class'].value_counts()"
   ]
  },
  {
   "cell_type": "code",
   "execution_count": null,
   "id": "8620b940",
   "metadata": {},
   "outputs": [],
   "source": [
    "# Which of class of drug  is the most commonest\n",
    "plt.figure(figsize=(20,10))\n",
    "df['drug_class'].value_counts().plot(kind='bar')\n",
    "plt.title(\"Distribution of Drugs By Class\")\n",
    "plt.show()\n"
   ]
  },
  {
   "cell_type": "code",
   "execution_count": null,
   "id": "4fec7e56",
   "metadata": {},
   "outputs": [],
   "source": [
    "# Distribution of Drugs Per Drug Group based on size\n",
    "drug_groups = df.groupby('drug_class').size()"
   ]
  },
  {
   "cell_type": "code",
   "execution_count": null,
   "id": "933c1551",
   "metadata": {},
   "outputs": [],
   "source": [
    "type(drug_groups)"
   ]
  },
  {
   "cell_type": "code",
   "execution_count": null,
   "id": "8bfb8561",
   "metadata": {},
   "outputs": [],
   "source": [
    "# Convert to DF\n",
    "# Method 1\n",
    "drug_groups.to_frame()"
   ]
  },
  {
   "cell_type": "code",
   "execution_count": null,
   "id": "8ac2653f",
   "metadata": {},
   "outputs": [],
   "source": [
    "# Convert to DF\n",
    "# Method 2\n",
    "drug_groups_df = pd.DataFrame({'drug_class':drug_groups.index,'counts':drug_groups.values})"
   ]
  },
  {
   "cell_type": "code",
   "execution_count": null,
   "id": "41347bc6",
   "metadata": {},
   "outputs": [],
   "source": [
    "# Seaborn Plot\n",
    "plt.figure(figsize=(20,10))\n",
    "g = sns.barplot(data=drug_groups_df,x='drug_class',y='counts')\n",
    "plt.show()"
   ]
  },
  {
   "cell_type": "code",
   "execution_count": null,
   "id": "6579a569",
   "metadata": {},
   "outputs": [],
   "source": [
    "# Seaborn Plot\n",
    "plt.figure(figsize=(20,10))\n",
    "g = sns.barplot(data=drug_groups_df,x='drug_class',y='counts')\n",
    "g.set_xticklabels(drug_groups_df['drug_class'].values,rotation=30)\n",
    "plt.show()"
   ]
  },
  {
   "cell_type": "code",
   "execution_count": null,
   "id": "42872de5",
   "metadata": {},
   "outputs": [],
   "source": [
    "# Seaborn Plot\n",
    "plt.figure(figsize=(20,10))\n",
    "g = sns.barplot(data=drug_groups_df,x='drug_class',y='counts')\n",
    "plt.xticks(rotation=30)\n",
    "plt.show()"
   ]
  },
  {
   "cell_type": "code",
   "execution_count": null,
   "id": "0dee98d2",
   "metadata": {},
   "outputs": [],
   "source": [
    "# Number of Conditions\n",
    "df['condition'].unique()"
   ]
  },
  {
   "cell_type": "code",
   "execution_count": null,
   "id": "12c73d44",
   "metadata": {},
   "outputs": [],
   "source": [
    "len(df['condition'].unique().tolist())"
   ]
  },
  {
   "cell_type": "code",
   "execution_count": null,
   "id": "6d4d910d",
   "metadata": {},
   "outputs": [],
   "source": [
    "#### Distribution of Conditions\n",
    "df['condition'].value_counts()"
   ]
  },
  {
   "cell_type": "code",
   "execution_count": null,
   "id": "fafc3a50",
   "metadata": {},
   "outputs": [],
   "source": [
    "#### Most commonest Conditions\n",
    "df['condition'].value_counts().nlargest(20)"
   ]
  },
  {
   "cell_type": "code",
   "execution_count": null,
   "id": "82776e85",
   "metadata": {},
   "outputs": [],
   "source": [
    "#### Most commonest Conditions\n",
    "df['condition'].value_counts().nlargest(20).plot(kind='bar',figsize=(20,10))"
   ]
  },
  {
   "cell_type": "code",
   "execution_count": null,
   "id": "9aca6277",
   "metadata": {},
   "outputs": [],
   "source": [
    "df['condition'].value_counts().nsmallest(20)"
   ]
  },
  {
   "cell_type": "code",
   "execution_count": null,
   "id": "faa04e96",
   "metadata": {},
   "outputs": [],
   "source": [
    "#### Least commonest Conditions\n",
    "df['condition'].value_counts().nsmallest(20).plot(kind='bar',figsize=(20,10))"
   ]
  },
  {
   "cell_type": "code",
   "execution_count": null,
   "id": "905c674c",
   "metadata": {},
   "outputs": [],
   "source": [
    "# How many Drugs per condition (Top 20)\n",
    "df.groupby('condition')['drugName'].nunique().nlargest(20)"
   ]
  },
  {
   "cell_type": "code",
   "execution_count": null,
   "id": "0c90119b",
   "metadata": {},
   "outputs": [],
   "source": [
    "# How many Drugs per condition (Top 20)\n",
    "plt.figure(figsize=(15,10))\n",
    "df.groupby('condition')['drugName'].nunique().nlargest(20).plot(kind='bar')\n",
    "plt.title(\"Number of Drugs Per Condition\")\n",
    "plt.grid()\n",
    "plt.show()"
   ]
  },
  {
   "cell_type": "code",
   "execution_count": null,
   "id": "5e050feb",
   "metadata": {},
   "outputs": [],
   "source": [
    "df['rating']"
   ]
  },
  {
   "cell_type": "code",
   "execution_count": null,
   "id": "b5dfec60",
   "metadata": {},
   "outputs": [],
   "source": [
    "# Distrubtion of Rating By Size\n",
    "df.groupby('rating').size()"
   ]
  },
  {
   "cell_type": "code",
   "execution_count": null,
   "id": "2aa0b17a",
   "metadata": {},
   "outputs": [],
   "source": [
    "# Distrubtion of Rating By Size\n",
    "df.groupby('rating').size().plot(kind='bar')"
   ]
  },
  {
   "cell_type": "code",
   "execution_count": null,
   "id": "6f62829a",
   "metadata": {},
   "outputs": [],
   "source": [
    "# # Distrubtion of Rating By Size Using Histogram\n",
    "plt.figure(figsize=(20,10))\n",
    "df['rating'].hist()\n",
    "plt.title(\"Distrubtion of Rating By Size Using Histogram\")\n",
    "plt.show()"
   ]
  },
  {
   "cell_type": "code",
   "execution_count": null,
   "id": "aba775ca",
   "metadata": {},
   "outputs": [],
   "source": [
    "# Average Rating of Drugs\n",
    "avg_rating = (df['rating'].groupby(df['drugName']).mean())"
   ]
  },
  {
   "cell_type": "code",
   "execution_count": null,
   "id": "4e50bb5d",
   "metadata": {},
   "outputs": [],
   "source": [
    "avg_rating"
   ]
  },
  {
   "cell_type": "code",
   "execution_count": null,
   "id": "a1ae6958",
   "metadata": {},
   "outputs": [],
   "source": [
    "# Average Rating For All Drugs\n",
    "plt.figure(figsize=(20,10))\n",
    "avg_rating.hist()\n",
    "plt.title(\"Distrubtion of Average Rating For All Drugs\")\n",
    "plt.show()"
   ]
  },
  {
   "cell_type": "code",
   "execution_count": null,
   "id": "5345036b",
   "metadata": {},
   "outputs": [],
   "source": [
    "# Average Rating of Drugs By Class\n",
    "avg_rating_per_drug_class = (df['rating'].groupby(df['drug_class']).mean())"
   ]
  },
  {
   "cell_type": "code",
   "execution_count": null,
   "id": "3ef4ffc0",
   "metadata": {},
   "outputs": [],
   "source": [
    "avg_rating_per_drug_class"
   ]
  },
  {
   "cell_type": "code",
   "execution_count": null,
   "id": "eb9dad21",
   "metadata": {},
   "outputs": [],
   "source": [
    "# Average Rating For All Drugs\n",
    "plt.figure(figsize=(20,10))\n",
    "avg_rating_per_drug_class.hist()\n",
    "plt.title(\"Distrubtion of Average Rating For Drug Classes\")\n",
    "plt.show()\n"
   ]
  },
  {
   "cell_type": "code",
   "execution_count": null,
   "id": "70463208",
   "metadata": {},
   "outputs": [],
   "source": [
    "# Which Group of Drugs have the higest mean/average rating\n",
    "avg_rating_per_drug_class.nlargest(20)"
   ]
  },
  {
   "cell_type": "code",
   "execution_count": null,
   "id": "75618654",
   "metadata": {},
   "outputs": [],
   "source": [
    "# Which Drugs have the higest mean/average rating\n",
    "avg_rating.nlargest(20)"
   ]
  },
  {
   "cell_type": "code",
   "execution_count": null,
   "id": "c5d5c19c",
   "metadata": {},
   "outputs": [],
   "source": [
    "df.columns"
   ]
  },
  {
   "cell_type": "code",
   "execution_count": null,
   "id": "efbb8e59",
   "metadata": {},
   "outputs": [],
   "source": [
    "# How genuine is the review? (Using sentiment analysis)\n",
    "from textblob import TextBlob"
   ]
  },
  {
   "cell_type": "code",
   "execution_count": null,
   "id": "e704569d",
   "metadata": {},
   "outputs": [],
   "source": [
    "df['review']"
   ]
  },
  {
   "cell_type": "code",
   "execution_count": null,
   "id": "04b201ae",
   "metadata": {},
   "outputs": [],
   "source": [
    "def get_sentiment(text):\n",
    "    blob = TextBlob(text)\n",
    "    return blob.polarity\n",
    "\n",
    "def get_sentiment_label(text):\n",
    "    blob = TextBlob(text)\n",
    "    if blob.polarity > 0:\n",
    "        result = 'positive'\n",
    "    elif blob.polarity < 0:\n",
    "        result = 'negative'\n",
    "    else:\n",
    "        result = 'neutral'\n",
    "    return result"
   ]
  },
  {
   "cell_type": "code",
   "execution_count": null,
   "id": "0db7b10d",
   "metadata": {},
   "outputs": [],
   "source": [
    "# text fxn\n",
    "get_sentiment(\"I love apples\")"
   ]
  },
  {
   "cell_type": "code",
   "execution_count": null,
   "id": "f9d98556",
   "metadata": {},
   "outputs": [],
   "source": [
    "# text fxn\n",
    "get_sentiment_label(\"I love apples\")"
   ]
  },
  {
   "cell_type": "code",
   "execution_count": null,
   "id": "1d63940a",
   "metadata": {},
   "outputs": [],
   "source": [
    "# Sentiment Score for Review\n",
    "df['sentiment'] = df['review'].apply(get_sentiment)"
   ]
  },
  {
   "cell_type": "code",
   "execution_count": null,
   "id": "99c784fa",
   "metadata": {},
   "outputs": [],
   "source": [
    "# Sentiment Labels for Review\n",
    "df['sentiment_label'] = df['review'].apply(get_sentiment_label)"
   ]
  },
  {
   "cell_type": "code",
   "execution_count": null,
   "id": "f00a95c2",
   "metadata": {
    "scrolled": true
   },
   "outputs": [],
   "source": [
    "df[['review','sentiment','sentiment_label']]"
   ]
  },
  {
   "cell_type": "code",
   "execution_count": null,
   "id": "81092b66",
   "metadata": {},
   "outputs": [],
   "source": [
    "# How many positive and negative and neutral reviews?\n",
    "df['sentiment_label'].value_counts()"
   ]
  },
  {
   "cell_type": "code",
   "execution_count": null,
   "id": "700ecdda",
   "metadata": {},
   "outputs": [],
   "source": [
    "# How many positive and negative and neutral reviews?\n",
    "df['sentiment_label'].value_counts().plot(kind='bar')"
   ]
  },
  {
   "cell_type": "code",
   "execution_count": null,
   "id": "81475d97",
   "metadata": {},
   "outputs": [],
   "source": [
    "#### Correlation Between Our sentiment and rating\n",
    "sns.lineplot(data=df,x='rating',y='sentiment')\n",
    "plt.show()"
   ]
  },
  {
   "cell_type": "code",
   "execution_count": null,
   "id": "b12aed16",
   "metadata": {},
   "outputs": [],
   "source": [
    "# Correlation  btween rating and sentiment\n",
    "sns.lineplot(data=df,x='rating',y='sentiment',hue='sentiment_label')"
   ]
  },
  {
   "cell_type": "code",
   "execution_count": null,
   "id": "150b4d7c",
   "metadata": {},
   "outputs": [],
   "source": [
    "# Genuine Good  Rating Per Review\n",
    "good_review =  df[(df['rating'] >= 6) & (df['sentiment_label'] == 'positive')]"
   ]
  },
  {
   "cell_type": "code",
   "execution_count": null,
   "id": "aa3da4b4",
   "metadata": {},
   "outputs": [],
   "source": [
    "# Genuine Bad  Rating Per Review\n",
    "bad_review = df[(df['rating'] <= 4) & (df['sentiment_label'] == 'negative')]"
   ]
  },
  {
   "cell_type": "code",
   "execution_count": null,
   "id": "d5a762fa",
   "metadata": {},
   "outputs": [],
   "source": [
    "good_review.head()"
   ]
  },
  {
   "cell_type": "code",
   "execution_count": null,
   "id": "65d3ed03",
   "metadata": {},
   "outputs": [],
   "source": [
    "good_review.iloc[0]['review']"
   ]
  },
  {
   "cell_type": "code",
   "execution_count": null,
   "id": "cf104a90",
   "metadata": {},
   "outputs": [],
   "source": [
    "df.groupby('drugName')['usefulCount'].value_counts()"
   ]
  },
  {
   "cell_type": "code",
   "execution_count": null,
   "id": "49413ca5",
   "metadata": {},
   "outputs": [],
   "source": [
    "# Top Drugs Per UsefulCount\n",
    "df.groupby('drugName')['usefulCount'].nunique().nlargest(20)"
   ]
  },
  {
   "cell_type": "code",
   "execution_count": null,
   "id": "49f7b8ec",
   "metadata": {},
   "outputs": [],
   "source": [
    "# Top Drugs Per UsefulCount\n",
    "df.groupby('drugName')['usefulCount'].nunique().nlargest(20).plot(kind='bar')"
   ]
  },
  {
   "cell_type": "code",
   "execution_count": null,
   "id": "d3d5372f",
   "metadata": {},
   "outputs": [],
   "source": [
    "# Top Drugs Class Per UsefulCount\n",
    "df.groupby('drug_class')['usefulCount'].nunique().nlargest(20)"
   ]
  },
  {
   "cell_type": "code",
   "execution_count": null,
   "id": "fb0ac439",
   "metadata": {},
   "outputs": [],
   "source": [
    "# Top Drugs Class Per UsefulCount\n",
    "df.groupby('drug_class')['usefulCount'].nunique().nlargest(20).plot(kind='bar')\n",
    "plt.title(\"Top Drug Class Per Usefulcount\")\n",
    "plt.show()"
   ]
  },
  {
   "cell_type": "code",
   "execution_count": null,
   "id": "6f83bd9d",
   "metadata": {},
   "outputs": [],
   "source": [
    "# Top Drugs Class Per UsefulCount\n",
    "df.groupby('drug_class')['usefulCount'].nunique().nsmallest(20).plot(kind='bar')\n",
    "plt.title(\"Least Drug Class Per Usefulcount\")\n",
    "plt.show()"
   ]
  },
  {
   "cell_type": "code",
   "execution_count": null,
   "id": "f91138e7",
   "metadata": {},
   "outputs": [],
   "source": [
    "### Correlation between Rating and Usefulcount\n",
    "sns.lineplot(data=df,x='rating',y='usefulCount')"
   ]
  },
  {
   "cell_type": "code",
   "execution_count": null,
   "id": "b7e4cd65",
   "metadata": {},
   "outputs": [],
   "source": [
    "#### Question on Date\n",
    "df.columns"
   ]
  },
  {
   "cell_type": "code",
   "execution_count": null,
   "id": "f99dd814",
   "metadata": {},
   "outputs": [],
   "source": [
    "# Rating Per Year\n",
    "df.groupby('date')['rating'].size()"
   ]
  },
  {
   "cell_type": "code",
   "execution_count": null,
   "id": "889dbcc8",
   "metadata": {},
   "outputs": [],
   "source": [
    "# Averaging Rating Per Day of A Year\n",
    "df.groupby('date')['rating'].mean()"
   ]
  },
  {
   "cell_type": "code",
   "execution_count": null,
   "id": "bbfc9f64",
   "metadata": {},
   "outputs": [],
   "source": [
    "# Average Rating Per Day of Every Year\n",
    "df.groupby('date')['rating'].mean().plot(figsize=(20,10))\n",
    "plt.title(\"Average Rating Per Day of Every Year\")\n",
    "plt.show()\n"
   ]
  },
  {
   "cell_type": "code",
   "execution_count": null,
   "id": "455e6b9c",
   "metadata": {},
   "outputs": [],
   "source": [
    "# Average Useful Per Day of Every Year\n",
    "df.groupby('date')['usefulCount'].mean().plot(figsize=(20,10))\n",
    "plt.title(\"Average UsefulCount Per Day of Every Year\")\n",
    "plt.show()"
   ]
  },
  {
   "cell_type": "code",
   "execution_count": null,
   "id": "6e9b5f82",
   "metadata": {},
   "outputs": [],
   "source": [
    "# Average Sentiment Per Day of Every Year\n",
    "df.groupby('date')['sentiment'].mean().plot(figsize=(20,10))\n",
    "plt.title(\"Average sentiment Per Day of Every Year\")\n",
    "plt.show()\n"
   ]
  },
  {
   "cell_type": "code",
   "execution_count": null,
   "id": "a9e2ba21",
   "metadata": {},
   "outputs": [],
   "source": [
    "# Amount of Review Per Day of Every Year\n",
    "df.groupby('date')['review'].size().plot(figsize=(20,10))\n",
    "plt.title(\"Amount of Review Per Day of Every Year\")\n",
    "plt.show()"
   ]
  },
  {
   "cell_type": "code",
   "execution_count": null,
   "id": "db158584",
   "metadata": {},
   "outputs": [],
   "source": [
    "# Amount of Review Per Day of Every Year\n",
    "df.groupby('date')['review'].size().plot(kind='bar',figsize=(20,10))\n",
    "plt.title(\"Amount of Review Per Day of Every Year\")\n",
    "plt.show()"
   ]
  },
  {
   "cell_type": "code",
   "execution_count": null,
   "id": "252d09a4",
   "metadata": {},
   "outputs": [],
   "source": [
    "####  Using DatetimeIndex\n",
    "grouped_date = df.groupby('date').agg({'rating':np.mean,'usefulCount':np.sum,'review':np.size})"
   ]
  },
  {
   "cell_type": "code",
   "execution_count": null,
   "id": "01604c38",
   "metadata": {},
   "outputs": [],
   "source": [
    "grouped_date"
   ]
  },
  {
   "cell_type": "code",
   "execution_count": null,
   "id": "0a1e1c48",
   "metadata": {},
   "outputs": [],
   "source": [
    "grouped_date.index"
   ]
  },
  {
   "cell_type": "code",
   "execution_count": null,
   "id": "ef1cce9c",
   "metadata": {},
   "outputs": [],
   "source": [
    "grouped_date['date'] = grouped_date.index"
   ]
  },
  {
   "cell_type": "code",
   "execution_count": null,
   "id": "b9b7b897",
   "metadata": {},
   "outputs": [],
   "source": [
    "grouped_date['date'] = pd.DatetimeIndex(grouped_date['date'])"
   ]
  },
  {
   "cell_type": "code",
   "execution_count": null,
   "id": "52f91ab0",
   "metadata": {},
   "outputs": [],
   "source": [
    "grouped_date.dtypes"
   ]
  },
  {
   "cell_type": "code",
   "execution_count": null,
   "id": "db46e21f",
   "metadata": {},
   "outputs": [],
   "source": [
    "grouped_date = grouped_date.set_index('date')"
   ]
  },
  {
   "cell_type": "code",
   "execution_count": null,
   "id": "98007e9c",
   "metadata": {},
   "outputs": [],
   "source": [
    "# Select A Particular Date Range\n",
    "grouped_date['2008'].plot()"
   ]
  },
  {
   "cell_type": "code",
   "execution_count": null,
   "id": "fdd9b630",
   "metadata": {},
   "outputs": [],
   "source": [
    "# AMount of Review Fr 2008\n",
    "grouped_date['2008']['review'].plot()\n",
    "plt.title(\"Amount of Review For 2008\")\n",
    "plt.show()"
   ]
  },
  {
   "cell_type": "code",
   "execution_count": null,
   "id": "29068f73",
   "metadata": {},
   "outputs": [],
   "source": [
    "# AMount of Review Fr 2008\n",
    "grouped_date['2008':'2009']['review'].plot()\n",
    "plt.title(\"Amount of Review For 2008-2009\")\n",
    "plt.show()"
   ]
  },
  {
   "cell_type": "code",
   "execution_count": null,
   "id": "2fe5a99c",
   "metadata": {},
   "outputs": [],
   "source": [
    "# Distribution of Rating Over Time\n",
    "grouped_date['2008':'2009']['rating'].plot()\n",
    "plt.title(\"Distribution of Rating Over Time\")\n",
    "plt.show()"
   ]
  },
  {
   "cell_type": "code",
   "execution_count": null,
   "id": "9c3870d3",
   "metadata": {},
   "outputs": [],
   "source": [
    "# Distribution of Rating Over Time\n",
    "grouped_date['2008':'2012']['rating'].plot(figsize=(20,10))\n",
    "plt.title(\"Distribution of Rating Over Time\")\n",
    "plt.show()"
   ]
  },
  {
   "cell_type": "code",
   "execution_count": null,
   "id": "8ac280fd",
   "metadata": {},
   "outputs": [],
   "source": [
    "grouped_date['2008-04'].plot()"
   ]
  },
  {
   "cell_type": "code",
   "execution_count": null,
   "id": "a9156449",
   "metadata": {},
   "outputs": [],
   "source": [
    "# Distribution of Rating Over A Month\n",
    "grouped_date['2008-4':'2008-5']['rating'].plot()\n",
    "plt.title(\"Distribution of Rating Over Time\")\n",
    "plt.show()"
   ]
  },
  {
   "cell_type": "code",
   "execution_count": null,
   "id": "483eb32e",
   "metadata": {},
   "outputs": [],
   "source": [
    "# Save Dataset\n",
    "df.to_csv(\"drug_review_dataset_with_sentiment.csv\",index=False)"
   ]
  }
 ],
 "metadata": {
  "kernelspec": {
   "display_name": "Python 3 (ipykernel)",
   "language": "python",
   "name": "python3"
  },
  "language_info": {
   "codemirror_mode": {
    "name": "ipython",
    "version": 3
   },
   "file_extension": ".py",
   "mimetype": "text/x-python",
   "name": "python",
   "nbconvert_exporter": "python",
   "pygments_lexer": "ipython3",
   "version": "3.9.7"
  }
 },
 "nbformat": 4,
 "nbformat_minor": 5
}
